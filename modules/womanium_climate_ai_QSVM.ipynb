{
  "cells": [
    {
      "cell_type": "markdown",
      "metadata": {
        "id": "_IbXAq46NDHo"
      },
      "source": [
        "# QSVR for Daily Temperature of Major cities dataset regression with TorchQuantum\n"
      ]
    },
    {
      "cell_type": "markdown",
      "metadata": {
        "id": "slU3ib_mURDX"
      },
      "source": [
        "##Introduction to Quantum Kernel Methods.\n"
      ]
    },
    {
      "cell_type": "markdown",
      "metadata": {
        "id": "qJv0wED75YTq"
      },
      "source": [
        "###Kernel Methods\n",
        "Kernels or kernel methods (also called Kernel functions) are sets of different types of algorithms that are being used for pattern analysis. They are used to solve a non-linear problem by a linear classifier. Kernels Methods are employed in SVM (Support Vector Machines) which are often used in classification and regression problems. The SVM uses what is called a “Kernel Trick” where the data is transformed and an optimal boundary is found for the possible outputs.\n",
        "\n",
        "\n",
        "####Quantum Kernel\n",
        "Quantum circuit can transfer the data to a high dimension Hilbert space which is hard to simulate on classical computer. Using kernel methods based on this Hilbert space can achieve unexpected performance."
      ]
    },
    {
      "cell_type": "markdown",
      "metadata": {
        "id": "d4zraAesQ2vr"
      },
      "source": [
        "###How to evaluate the distance in Hilbert space?\n",
        "Assume S(x) is the unitary that transfer data x to the state in Hilbert space. To evaluate the inner product between S(x) and S(y), we add a Transpose Conjugation of S(y) behind S(x) and measure the probability that the state falls on $|00\\cdots0\\rangle$"
      ]
    },
    {
      "cell_type": "markdown",
      "metadata": {
        "id": "tOv-XfNjW5XH"
      },
      "source": [
        "##Build and train an SVM using Quantum Kernel Methods."
      ]
    },
    {
      "cell_type": "markdown",
      "metadata": {
        "id": "pfwd2SNaOA4z"
      },
      "source": [
        "###Installation"
      ]
    },
    {
      "cell_type": "code",
      "execution_count": 1,
      "metadata": {
        "colab": {
          "base_uri": "https://localhost:8080/"
        },
        "id": "azb47tvSiaBp",
        "outputId": "ddc80b2f-62ca-45be-bc28-93bbd09594bb"
      },
      "outputs": [],
      "source": [
        "# !pip install 'qiskit[all]'\n",
        "# !pip install qiskit_ibm_runtime\n",
        "# !pip install qiskit_algorithms\n",
        "# !pip install qiskit-machine-learning"
      ]
    },
    {
      "cell_type": "markdown",
      "metadata": {
        "id": "F2-0UpluOIQl"
      },
      "source": [
        "Download and cd to the repo."
      ]
    },
    {
      "cell_type": "markdown",
      "metadata": {
        "id": "-42mdL8CG5Vi"
      },
      "source": [
        "###Import the module\n",
        "`SVR` is support vector regression. We use this module to call the support vector machine algorithm.\n",
        "\n",
        "`StandardScaler` is to help scale the data by removing the mean and scaling to unit variance.\n",
        "\n",
        "`train_test_split` is a tool to split the dataset.\n",
        "\n",
        "`func_name_dict` is a very important dict under `torchquantum.functional`. If we feed the name of the gates we want, like ‘rx’, ‘ry’, or ‘rzz’, the dict will give us a function. The function plays a central role in our quantum model. It performs the specified unitary operations on a specified quantum state on a specified wire. These three specified things are the three parameters we need to pass to it. You can see that later.\n"
      ]
    },
    {
      "cell_type": "code",
      "execution_count": 19,
      "metadata": {
        "id": "N5acspJ8G1n3"
      },
      "outputs": [],
      "source": [
        "import numpy as np\n",
        "\n",
        "from qiskit_machine_learning.algorithms import QSVR\n",
        "from sklearn.preprocessing import StandardScaler\n",
        "from sklearn.model_selection import train_test_split, cross_val_score\n",
        "from sklearn.metrics import accuracy_score\n",
        "from qiskit_ibm_runtime import QiskitRuntimeService, Sampler\n",
        "from qiskit.compiler import transpile\n",
        "from qiskit.quantum_info import Operator\n",
        "from qiskit.circuit.library import ZZFeatureMap\n",
        "from qiskit_algorithms.state_fidelities import ComputeUncompute\n",
        "from qiskit_machine_learning.kernels import FidelityQuantumKernel\n",
        "\n",
        "import pandas as pd\n",
        "import matplotlib.pyplot as plt\n",
        "import seaborn as sns\n",
        "import plotly.express as px\n",
        "from sklearn.decomposition import PCA\n"
      ]
    },
    {
      "cell_type": "markdown",
      "metadata": {
        "id": "QiOV-xIGKXVK"
      },
      "source": [
        "###Prepare dataset\n",
        "\n"
      ]
    },
    {
      "cell_type": "code",
      "execution_count": 17,
      "metadata": {
        "colab": {
          "base_uri": "https://localhost:8080/"
        },
        "id": "nuwenHLPlhyO",
        "outputId": "b8462194-5c5c-4776-bd39-061c7227a484"
      },
      "outputs": [
        {
          "name": "stderr",
          "output_type": "stream",
          "text": [
            "/tmp/ipykernel_36322/3399259931.py:1: DtypeWarning: Columns (2) have mixed types. Specify dtype option on import or set low_memory=False.\n",
            "  df = pd.read_csv(\"/home/mahmoudelkarargy/Desktop/Womanium/city_temperature.csv\")\n"
          ]
        },
        {
          "data": {
            "text/plain": [
              "(18458, 5)"
            ]
          },
          "execution_count": 17,
          "metadata": {},
          "output_type": "execute_result"
        }
      ],
      "source": [
        "df = pd.read_csv(\"/home/mahmoudelkarargy/Desktop/Womanium/city_temperature.csv\")\n",
        "df = df.drop(df.query('AvgTemperature == -99').index).reset_index(drop= True) # adjust index after dropping the data\n",
        "df = df.drop('State', axis= 1)\n",
        "df = df.drop('Region', axis= 1)\n",
        "df = df.drop('City', axis= 1)\n",
        "df['AvgTemperature'] = df['AvgTemperature'].map(lambda x: (x - 32) * (5/9))\n",
        "df = df[df['Country'].isin(['Egypt', 'Algeria'])]\n",
        "df = df.drop(df.query('AvgTemperature == -99').index).reset_index(drop= True)\n",
        "df.shape"
      ]
    },
    {
      "cell_type": "code",
      "execution_count": 18,
      "metadata": {
        "id": "5hdPocvHmEaO"
      },
      "outputs": [],
      "source": [
        "df = df.rename(\n",
        "    columns= {'Country': 'country', 'Month': 'month', 'Day': 'day', 'Year': 'year', 'AvgTemperature': 'avg_temperature'}\n",
        ")\n",
        "df=pd.get_dummies(df,columns=['country','month','day','year'])\n",
        "X=df.drop(columns=['avg_temperature'])\n",
        "y=df['avg_temperature']\n",
        "X=X.astype(int)"
      ]
    },
    {
      "cell_type": "markdown",
      "metadata": {},
      "source": [
        "## PCA to reduce features from 71 to 10"
      ]
    },
    {
      "cell_type": "code",
      "execution_count": 20,
      "metadata": {},
      "outputs": [],
      "source": [
        "pca = PCA(n_components=10)\n",
        "X = pca.fit_transform(X)"
      ]
    },
    {
      "cell_type": "code",
      "execution_count": 21,
      "metadata": {
        "colab": {
          "base_uri": "https://localhost:8080/",
          "height": 444
        },
        "id": "on69hOq3mn6h",
        "outputId": "e037b93d-6d10-491a-cf0c-ece86f490df4"
      },
      "outputs": [
        {
          "data": {
            "text/plain": [
              "array([[ 0.70663703, -0.54118828,  0.77768511, ..., -0.0097965 ,\n",
              "        -0.06767613,  0.00566058],\n",
              "       [ 0.70663703, -0.54118828,  0.77768511, ..., -0.0097965 ,\n",
              "        -0.06767613,  0.00566058],\n",
              "       [ 0.70663703, -0.54118828,  0.77768511, ..., -0.0097965 ,\n",
              "        -0.06767613,  0.00566058],\n",
              "       ...,\n",
              "       [-0.70730528, -0.03793927, -0.17211521, ..., -0.04757115,\n",
              "        -0.14808166,  0.00979586],\n",
              "       [-0.70722333, -0.03795553, -0.17216213, ..., -0.04738476,\n",
              "        -0.14682606,  0.00882487],\n",
              "       [-0.70738729, -0.03740171, -0.17289658, ..., -0.04737893,\n",
              "        -0.14697779,  0.00885795]])"
            ]
          },
          "execution_count": 21,
          "metadata": {},
          "output_type": "execute_result"
        }
      ],
      "source": [
        "X"
      ]
    },
    {
      "cell_type": "code",
      "execution_count": 22,
      "metadata": {
        "colab": {
          "base_uri": "https://localhost:8080/",
          "height": 458
        },
        "id": "p7nf7zRjosf5",
        "outputId": "7a5e1485-288a-461d-b5ce-56ef8378e047"
      },
      "outputs": [
        {
          "data": {
            "text/plain": [
              "0        17.888889\n",
              "1         9.666667\n",
              "2         9.333333\n",
              "3         8.000000\n",
              "4         8.833333\n",
              "           ...    \n",
              "18453    22.000000\n",
              "18454    22.277778\n",
              "18455    23.444444\n",
              "18456    25.722222\n",
              "18457    20.555556\n",
              "Name: avg_temperature, Length: 18458, dtype: float64"
            ]
          },
          "execution_count": 22,
          "metadata": {},
          "output_type": "execute_result"
        }
      ],
      "source": [
        "y"
      ]
    },
    {
      "cell_type": "code",
      "execution_count": 23,
      "metadata": {
        "colab": {
          "base_uri": "https://localhost:8080/"
        },
        "id": "Y2rePzF3nU1u",
        "outputId": "a162216d-1743-4ca3-8201-3fe094ca8547"
      },
      "outputs": [
        {
          "name": "stdout",
          "output_type": "stream",
          "text": [
            "Total dataset length: 18458\n",
            "Training set length: 11812\n",
            "Validation set length: 2954\n",
            "Test set length: 3692\n",
            "[[ 0.70681552 -0.03669474 -0.15195435 ... -0.46537334 -0.24418361\n",
            "   0.01275145]\n",
            " [-0.7073168  -0.52964951  0.82551147 ... -0.01811019 -0.08266317\n",
            "   0.00651505]\n",
            " [ 0.70671689 -0.01410361 -0.04988903 ...  0.01304584  0.20279304\n",
            "  -0.03493842]\n",
            " ...\n",
            " [ 0.70681676 -0.02241435 -0.08615752 ...  0.02600249  0.43523244\n",
            "  -0.42166702]\n",
            " [-0.7072313  -0.03994103 -0.17202831 ... -0.1378068  -0.20437388\n",
            "   0.0092364 ]\n",
            " [-0.70724337 -0.54102905  0.7779793  ... -0.01030364 -0.06851299\n",
            "   0.00340074]]\n",
            "4589     24.611111\n",
            "18341    14.000000\n",
            "5150      9.333333\n",
            "15365    18.833333\n",
            "6897     10.833333\n",
            "           ...    \n",
            "2607     13.222222\n",
            "7778     23.722222\n",
            "2495     12.944444\n",
            "14247    24.444444\n",
            "13968    13.611111\n",
            "Name: avg_temperature, Length: 11812, dtype: float64\n"
          ]
        }
      ],
      "source": [
        "x_train, x_test, y_train, y_test = train_test_split(X, y,\n",
        "                                                    train_size=0.8, test_size=0.2)\n",
        "x_train,x_val,y_train,y_val=train_test_split(x_train,y_train,train_size=0.8,test_size=0.2)\n",
        "\n",
        "# Print information about the splits\n",
        "print(f\"Total dataset length: {len(X)}\")\n",
        "print(f\"Training set length: {len(x_train)}\")\n",
        "print(f\"Validation set length: {len(x_val)}\")\n",
        "print(f\"Test set length: {len(x_test)}\")\n",
        "print(x_train)\n",
        "print(y_train)"
      ]
    },
    {
      "cell_type": "code",
      "execution_count": 24,
      "metadata": {
        "id": "h1Y5Da_Y_Pnd"
      },
      "outputs": [],
      "source": [
        "tokens=\"88932d7d58efc72a2293259005cf2a11c39901510b6b0d8747bc15103d5b9e017ab3ce765a7c8d7374fc8d75b451b09a0ace5386658666b3eb3b6b9166deb635\"\n",
        "ibm_quantum_service = QiskitRuntimeService(channel=\"ibm_quantum\", token=tokens)\n",
        "QiskitRuntimeService.save_account(channel=\"ibm_quantum\", token=tokens,overwrite=True)"
      ]
    },
    {
      "cell_type": "code",
      "execution_count": 11,
      "metadata": {
        "colab": {
          "base_uri": "https://localhost:8080/"
        },
        "id": "kEQ4q4XQ_jLc",
        "outputId": "a4d4c007-55e1-4d2d-f012-f2fc7ce0a7d7"
      },
      "outputs": [
        {
          "name": "stdout",
          "output_type": "stream",
          "text": [
            "['ibm_brisbane', 'ibm_kyoto', 'ibm_osaka', 'ibm_sherbrooke']\n"
          ]
        }
      ],
      "source": [
        "service = QiskitRuntimeService(channel=\"ibm_quantum\")\n",
        "available_backends = service.backends()\n",
        "print([backend.name for backend in available_backends])"
      ]
    },
    {
      "cell_type": "code",
      "execution_count": 12,
      "metadata": {
        "colab": {
          "base_uri": "https://localhost:8080/"
        },
        "id": "VfPH-xKYENOg",
        "outputId": "bec719f3-83ad-49bb-bc57-0f290fcf5364"
      },
      "outputs": [
        {
          "data": {
            "text/plain": [
              "<IBMBackend('ibm_osaka')>"
            ]
          },
          "execution_count": 12,
          "metadata": {},
          "output_type": "execute_result"
        }
      ],
      "source": [
        "service.least_busy(operational=True, min_num_qubits=5)"
      ]
    },
    {
      "cell_type": "code",
      "execution_count": 13,
      "metadata": {
        "id": "MbcJEezeEcIr"
      },
      "outputs": [],
      "source": [
        "backend = service.backend(\"ibm_osaka\")"
      ]
    },
    {
      "cell_type": "code",
      "execution_count": 25,
      "metadata": {
        "colab": {
          "base_uri": "https://localhost:8080/"
        },
        "id": "wGvYAR_C_mk4",
        "outputId": "2fab0068-1e54-4560-e4eb-8dbb34b247d8"
      },
      "outputs": [
        {
          "name": "stderr",
          "output_type": "stream",
          "text": [
            "/tmp/ipykernel_36322/2746636503.py:5: DeprecationWarning: The Sampler and Estimator V1 primitives have been deprecated as of qiskit-ibm-runtime 0.23.0 and will be removed no sooner than 3 months after the release date. Please use the V2 Primitives. See the `V2 migration guide <https://docs.quantum.ibm.com/api/migration-guides/v2-primitives>`_. for more details\n",
            "  sampler = Sampler(backend=backend)\n"
          ]
        }
      ],
      "source": [
        "transpiled_circuit= ZZFeatureMap(feature_dimension=10, reps=1, entanglement=\"linear\")\n",
        "\n",
        "adhoc_feature_map = transpile(transpiled_circuit,backend = backend, optimization_level = 0)\n",
        "\n",
        "sampler = Sampler(backend=backend)\n",
        "\n",
        "fidelity = ComputeUncompute(sampler=sampler)\n",
        "\n",
        "adhoc_kernel = FidelityQuantumKernel(fidelity=fidelity, feature_map=adhoc_feature_map)"
      ]
    },
    {
      "cell_type": "code",
      "execution_count": 26,
      "metadata": {
        "colab": {
          "base_uri": "https://localhost:8080/"
        },
        "id": "xhIb3Iq8AQmR",
        "outputId": "5735b2e7-2079-4185-9d75-2472fc25055d"
      },
      "outputs": [
        {
          "name": "stdout",
          "output_type": "stream",
          "text": [
            "(11812, 10)\n",
            "(3692, 10)\n",
            "(11812,)\n",
            "(3692,)\n"
          ]
        }
      ],
      "source": [
        "print(x_train.shape)\n",
        "print(x_test.shape)\n",
        "print(y_train.shape)\n",
        "print(y_test.shape)"
      ]
    },
    {
      "cell_type": "markdown",
      "metadata": {
        "id": "ckdg6zccLwF3"
      },
      "source": [
        "###Train the svm model from sklearn based on our quantum kernel.\n",
        "\n",
        "Define a kernel matrix function.\n",
        "\n",
        "Pass the kernel matrix function to SVR, call `.fit(X_train, y_train)` and the SVC object can start training.\n",
        "\n",
        "Predict and see the accuracy. The accuracy looks pretty well.\n"
      ]
    },
    {
      "cell_type": "code",
      "execution_count": 30,
      "metadata": {
        "id": "xS7zGXVDLwuY"
      },
      "outputs": [],
      "source": [
        "qsvr = QSVR(quantum_kernel=adhoc_kernel)\n",
        "qsvr.fit(x_train, y_train)\n",
        "predictions = qsvr.predict(x_test)"
      ]
    },
    {
      "cell_type": "code",
      "execution_count": 29,
      "metadata": {
        "colab": {
          "base_uri": "https://localhost:8080/"
        },
        "id": "hH0GQCZVqTm5",
        "outputId": "5ef54b34-73ae-442c-e931-bb6ebaae005b"
      },
      "outputs": [
        {
          "name": "stdout",
          "output_type": "stream",
          "text": [
            "Accuracy: 0.93215454211545\n"
          ]
        }
      ],
      "source": [
        "accuracy = qsvr.score(x_test, y_test)\n",
        "print(f\"Accuracy: {accuracy}\")"
      ]
    },
    {
      "cell_type": "code",
      "execution_count": null,
      "metadata": {},
      "outputs": [],
      "source": []
    }
  ],
  "metadata": {
    "colab": {
      "collapsed_sections": [
        "pfwd2SNaOA4z"
      ],
      "provenance": []
    },
    "kernelspec": {
      "display_name": "Python 3",
      "name": "python3"
    },
    "language_info": {
      "codemirror_mode": {
        "name": "ipython",
        "version": 3
      },
      "file_extension": ".py",
      "mimetype": "text/x-python",
      "name": "python",
      "nbconvert_exporter": "python",
      "pygments_lexer": "ipython3",
      "version": "3.10.14"
    }
  },
  "nbformat": 4,
  "nbformat_minor": 0
}
